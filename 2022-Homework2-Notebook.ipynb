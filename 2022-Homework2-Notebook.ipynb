{
 "cells": [
  {
   "cell_type": "markdown",
   "metadata": {},
   "source": [
    "# Homework2\n",
    "\n",
    "Please note that this is a group project (2 students per group). If you do not have a group yet, please email georgiana.ifrim@ucd.ie to be assigned to a group.\n",
    "\n",
    "Please upload to Brightspace a **.zip** archive containing your Jupyter Notebook with solutions and all data required to reproduce your solutions. \n",
    "\n",
    "Please also prepare a **requirements.txt** file which lists all the packages that you have used for your homework, one package per line. This will allow us to install all required packages.\n",
    "\n",
    "Please name your .zip archive using your full names and student ids as follows - **Firstname1_Lastname1_id1_Firstname2_Lastname2_id2_COMP47350_Homework1.zip**. Please only 1 person in the team submit this zip file to Brightspace (no need for each member to submit a duplicate of the zip).\n",
    "\n",
    "For your Notebook, please split the code and explanations into cells so it is easy to see and read the results of each step of your solution. Please remember to name your variables and methods with self-explanatory names. Please remember to write comments and where needed, justifications, for the decisions you make and code you write. \n",
    "\n",
    "Your code and analysis is like a story that awaits to be read, please make it a nice and clear story. Always start with an introduction about the problem and your understanding of the problem domain and data analytics solution and describe your steps and your findings from each step.\n",
    "\n",
    "The accepted file formats for the homework are:\n",
    "    - .ipynb\n",
    "    - .zip\n",
    "    - .pdf\n",
    "    - .csv\n",
    "    \n",
    "Please aim to keep the whole code for Homework2 in a single notebook. In case you need to first prepare the data and prefer to do this in a separate notebook, before starting on Homework2, you can do this, but to the Homework2 notebook add a short summary of what was done to prepare the data. Please document the structure of your files in a README.txt file, so your submission folder and files are easy to navigate for an outsider.\n",
    "\n",
    "Usage of external tools/files is discouraged for portability reasons. Files in any other format but mentioned above can be used but will not considered for the submission (including .doc, .rar, .7z, .pages, .xlsx, .tex etc.). \n",
    "Any image format is allowed to be used as far as the images appear embedded in your report (.ipynb or .pdf or .html).\n",
    "\n",
    "**Deadline: Monday, 8 May, 2023, midnight.** \n"
   ]
  },
  {
   "cell_type": "markdown",
   "metadata": {},
   "source": [
    "## Exercises\n",
    "\n",
    "**This homework focuses on training and evaluating prediction models for a particular problem and dataset.**\n",
    "The data comes from the Centers for Disease Control and Prevention (CDC: https://covid.cdc.gov/covid-data-tracker/). CDC is a USA health protection agency and is in charge of collecting data about the COVID-19 pandemic, and in particular, tracking cases, deaths, and trends of COVID-19 in the United States. CDC collects and makes public deidentified individual-case data on a daily basis, submitted using standardized case reporting forms. In this analysis, we focus on using the data collected by CDC to build a data analytics solution for death risk prediction. \n",
    "\n",
    "The dataset we work with is a sample of the public data released by CDC, where the outcome for the target feature **death_yn** is known (i.e., either 'yes' or 'no'):\n",
    "https://data.cdc.gov/Case-Surveillance/COVID-19-Case-Surveillance-Public-Use-Data/vbim-akqf\n",
    "\n",
    "The goal in this homework is to work with the data to build and evaluate prediction models that capture the relationship between the descriptive features and the target feature **death_yn**. For this homework you are asked to use the same dataset allocated to you in Homework1 (you can use your cleaned/prepared CSV from Homework1 or start from the raw dataset, clean it according to concepts covered in the lectures/labs, then use it for training prediction models). To use the 2 individual files allocated for Homework1, you can merge them first, then clean the resulting dataset, before starting on Homework2 requirements.\n",
    " \n",
    "There are 5 parts for this homework. Each part has an indicative maximum percentage given in brackets, e.g., part (1) has a maximum of 25% shown as [25]. The total that can be achieved is 100.\n",
    "\n",
    "\n",
    "(1). [25] **Data Understanding and Preparation:** Exploring relationships between feature pairs and selecting/transforming promising features based on a given training set.\n",
    "\n",
    "    - (1.1) Split the dataset into two datasets: 70% training and 30% test. Keep the test set aside. \n",
    "    - (1.2) On the training set:\n",
    "        - Plot the correlations between all the continuous features (if any). Discuss what you observe in these plots.\n",
    "        - For each continuous feature, plot its interaction with the target feature (a plot for each pair of   continuous feature and target feature). Discuss what you observe from these plots, e.g., which continuous features seem to be better at predicting the target feature? Choose a subset of continuous features you find promising (if any). Justify your choices.\n",
    "        - For each categorical feature, plot its pairwise interaction with the target feature. Discuss what  knowledge you gain from these plots, e.g., which categorical features seem to be better at predicting the target feature? Choose a subset of categorical features you find promising (if any). Justify your choices.\n",
    "      \n",
    "    \n",
    "(2). [15] **Predictive Modeling:** Linear Regression.  \n",
    "\n",
    "    - (2.1) On the training set, train a linear regression model to predict the target feature, using only the  descriptive features selected in exercise (1) above. \n",
    "    - (2.2) Print the coefficients learned by the model and discuss their role in the model (e.g., interpret the model by analysing each coefficient and how it relates each input feature to the target feature).    \n",
    "    - (2.3) Print the predicted target feature value for the first 10 training examples. Threshold the predicted target feature value given by the linear regression model at 0.5, to get the predicted class for each example. Print the predicted class for the first 10 examples. Print a few classification evaluation measures computed on the full training set (e.g., Accuracy, Confusion matrix, Precision, Recall, F1) and discuss your findings so far.\n",
    "    - (2.4) Evaluate the model using classification evaluation measures on the hold-out (30% examples) test set. Compare these results with the evaluation results obtained on the training (70%) dataset. Also compare these results with a cross-validated model (i.e., a new model trained and evaluated using cross-validation on the full dataset). You can use classic k-fold cross-validation or repeated random train/test (70/30) splits. Compare the cross-validation metrics to those obtained on the single train/test split and discuss your findings.\n",
    "    \n",
    "(3). [15] **Predictive Modeling:** Logistic Regression.  \n",
    "\n",
    "    - (3.1) On the training set, train a logistic regression model to predict the target feature, using the descriptive features selected in exercise (1) above.   \n",
    "    - (3.2) Print the coefficients learned by the model and discuss their role in the model (e.g., interpret the model).    \n",
    "    - (3.3) Print the predicted target feature value for the first 10 training examples. Print the predicted class for the first 10 examples. Print a few classification evaluation measures computed on the full training set (e.g., Accuracy, Confusion matrix, Precision, Recall, F1) and discuss your findings so far.\n",
    "    - (3.4) Evaluate the model using classification evaluation measures on the hold-out (30% examples) test set. Compare these results with the evaluation results obtained when using the training (70%) dataset for evaluation. Also compare these results with a cross-validated model (i.e., a new model trained and evaluated using cross-validation on the full dataset). You can use classic k-fold cross-validation or repeated train/test (70/30) splits. Compare the cross-validation metrics to those obtained on the single train/test split and discuss your findings.\n",
    "    \n",
    "    \n",
    "(4). [20] **Predictive Modeling:** Random Forest.  \n",
    "\n",
    "    - (4.1) On the training set, train a random forest model to predict the target feature, using the descriptive features selected in exercise (1) above.   \n",
    "    - (4.2) Can you interpret the random forest model? Discuss any knowledge you can gain in regard of the working of this model.   \n",
    "    - (4.3) Print the predicted target feature value for the first 10 training examples. Print the predicted class for the first 10 examples. Print a few classification evaluation measures computed on the full training set (e.g., Accuracy, Confusion matrix, Precision, Recall, F1) and discuss your findings so far.\n",
    "    - (4.4) Evaluate the model using classification evaluation measures on the hold-out (30% examples) test set. Compare these results with the evaluation results obtained when using the training (70%) dataset for evaluation. Also compare these results with a cross-validated model (i.e., a new model trained and evaluated using cross-validation on the full dataset). You can use classic k-fold cross-validation or repeated train/test (70/30) splits. Compare the cross-validation metrics to those obtained on the single train/test split and to the Random Forest out-of-sample error and discuss your findings.\n",
    "    \n",
    "(5). [25] **Improving Predictive Models.**\n",
    "\n",
    "    - (5.1) Which model of the ones trained above performs better at predicting the target feature? Is it more   accurate than a simple model that always predicts the majority class (i.e., if 'no' is the majority class in your dataset, the simple model always predicts 'no' for the target feature)? Justify your answers.\n",
    "    - (5.2) Summarise your understanding of the problem and of your predictive modeling results so far. Can you think of any new ideas to improve the best model so far (e.g., by using furher data prep such as: feature selection, feature re-scaling, creating new features, combining predictive models, or using other domain knowledge)? Please show how your ideas actually work in practice (with code), by training and evaluating your proposed models. Summarise your findings so far. "
   ]
  },
  {
   "attachments": {},
   "cell_type": "markdown",
   "metadata": {},
   "source": [
    "## Homework 2\n",
    "## Cian Belton: 19321726\n",
    "## Shuya Ikeo: \n",
    "### Use data from Homework 1 to build and evaluate prediction models that capture the relationship between features and target features\n"
   ]
  },
  {
   "cell_type": "code",
   "execution_count": 69,
   "metadata": {},
   "outputs": [],
   "source": [
    "##Imports for this notebook\n",
    "import numpy as np\n",
    "import matplotlib.pyplot as plt\n",
    "import pandas as pd\n",
    "import seaborn as sns\n",
    "from sklearn.model_selection import train_test_split\n"
   ]
  },
  {
   "cell_type": "code",
   "execution_count": 70,
   "metadata": {},
   "outputs": [],
   "source": [
    "##Writing installed packages to requirements.txt file\n",
    "!pip freeze > requirements.txt"
   ]
  },
  {
   "attachments": {},
   "cell_type": "markdown",
   "metadata": {},
   "source": [
    "### Exercise 0: Merging and Cleaning Data\n",
    "Will merge both our datasets into a new csv file named 'merged_data.csv'"
   ]
  },
  {
   "cell_type": "code",
   "execution_count": 71,
   "metadata": {},
   "outputs": [],
   "source": [
    "df = pd.read_csv(\"merged_data.csv\")"
   ]
  },
  {
   "attachments": {},
   "cell_type": "markdown",
   "metadata": {},
   "source": [
    "This is now the dataset we will work on for the rest of this notebook\n",
    "As we already had homework 1 to clean the data, we will use Cian's data quality plan to do this."
   ]
  },
  {
   "cell_type": "code",
   "execution_count": 72,
   "metadata": {},
   "outputs": [
    {
     "data": {
      "text/plain": [
       "Index(['case_month', 'res_state', 'state_fips_code', 'res_county',\n",
       "       'county_fips_code', 'age_group', 'sex', 'race', 'ethnicity',\n",
       "       'case_positive_specimen_interval', 'case_onset_interval', 'process',\n",
       "       'exposure_yn', 'current_status', 'symptom_status', 'hosp_yn', 'icu_yn',\n",
       "       'death_yn', 'underlying_conditions_yn'],\n",
       "      dtype='object')"
      ]
     },
     "execution_count": 72,
     "metadata": {},
     "output_type": "execute_result"
    }
   ],
   "source": [
    "df.columns"
   ]
  },
  {
   "attachments": {},
   "cell_type": "markdown",
   "metadata": {},
   "source": [
    "#### Dropping columns"
   ]
  },
  {
   "cell_type": "code",
   "execution_count": 73,
   "metadata": {},
   "outputs": [
    {
     "data": {
      "text/plain": [
       "Index(['case_month', 'res_state', 'res_county', 'age_group', 'sex', 'race',\n",
       "       'ethnicity', 'current_status', 'hosp_yn', 'icu_yn', 'death_yn',\n",
       "       'underlying_conditions_yn'],\n",
       "      dtype='object')"
      ]
     },
     "execution_count": 73,
     "metadata": {},
     "output_type": "execute_result"
    }
   ],
   "source": [
    "def drop_column(df, column_to_drop):\n",
    "    if column_to_drop in df.columns:\n",
    "        df = df.drop(column_to_drop, axis=1)\n",
    "    return df\n",
    "\n",
    "df = drop_column(df, \"case_positive_specimen_interval\")\n",
    "df = drop_column(df, \"case_onset_interval\")\n",
    "df = drop_column(df, \"county_fips_code\")\n",
    "df = drop_column(df, \"state_fips_code\")\n",
    "df = drop_column(df, \"symptom_status\")\n",
    "df = drop_column(df, \"exposure_yn\")\n",
    "df = drop_column(df, \"process\")\n",
    "df.columns"
   ]
  },
  {
   "attachments": {},
   "cell_type": "markdown",
   "metadata": {},
   "source": [
    "#### Change unknown/null values to Missing"
   ]
  },
  {
   "cell_type": "code",
   "execution_count": 74,
   "metadata": {},
   "outputs": [],
   "source": [
    "def clean_column(df, column_to_clean):\n",
    "    if column_to_clean in df.columns:\n",
    "        df[column_to_clean] = df[column_to_clean].fillna('Missing')\n",
    "        df[column_to_clean] = df[column_to_clean].replace('Unknown', 'Missing')\n",
    "        df[column_to_clean] = df[column_to_clean].replace('missing', 'Missing')\n",
    "    return df\n",
    "\n",
    "df = clean_column(df, \"res_county\")\n",
    "df = clean_column(df, \"res_state\")\n",
    "df = clean_column(df, \"age_group\")\n",
    "df = clean_column(df, \"sex\")\n",
    "df = clean_column(df, \"race\")\n",
    "df = clean_column(df, \"ethnicity\")\n",
    "df = clean_column(df, \"hosp_yn\")\n",
    "df = clean_column(df, \"icu_yn\")\n",
    "df = clean_column(df, \"underlying_conditions_yn\")"
   ]
  },
  {
   "cell_type": "code",
   "execution_count": 75,
   "metadata": {},
   "outputs": [
    {
     "data": {
      "text/plain": [
       "case_month                  0\n",
       "res_state                   0\n",
       "res_county                  0\n",
       "age_group                   0\n",
       "sex                         0\n",
       "race                        0\n",
       "ethnicity                   0\n",
       "current_status              0\n",
       "hosp_yn                     0\n",
       "icu_yn                      0\n",
       "death_yn                    0\n",
       "underlying_conditions_yn    0\n",
       "dtype: int64"
      ]
     },
     "execution_count": 75,
     "metadata": {},
     "output_type": "execute_result"
    }
   ],
   "source": [
    "df.isnull().sum()+df.eq('Unknown').sum()+df.eq('missing').sum()"
   ]
  },
  {
   "cell_type": "code",
   "execution_count": 76,
   "metadata": {},
   "outputs": [
    {
     "data": {
      "text/plain": [
       "(40000, 12)"
      ]
     },
     "execution_count": 76,
     "metadata": {},
     "output_type": "execute_result"
    }
   ],
   "source": [
    "df.shape"
   ]
  },
  {
   "attachments": {},
   "cell_type": "markdown",
   "metadata": {},
   "source": [
    "#### Dropping Rows:\n",
    "Drop row that has a missing value for res_state"
   ]
  },
  {
   "cell_type": "code",
   "execution_count": 77,
   "metadata": {},
   "outputs": [
    {
     "data": {
      "text/plain": [
       "(39999, 12)"
      ]
     },
     "execution_count": 77,
     "metadata": {},
     "output_type": "execute_result"
    }
   ],
   "source": [
    "df.drop(df[df['res_state'].eq('Missing')].index, inplace=True)\n",
    "df.shape"
   ]
  },
  {
   "attachments": {},
   "cell_type": "markdown",
   "metadata": {},
   "source": [
    "Drop rows that fail integrity test 3 from Homework 1"
   ]
  },
  {
   "cell_type": "code",
   "execution_count": 78,
   "metadata": {},
   "outputs": [
    {
     "data": {
      "text/plain": [
       "(39993, 12)"
      ]
     },
     "execution_count": 78,
     "metadata": {},
     "output_type": "execute_result"
    }
   ],
   "source": [
    "## Drop the that failed test 3- The number of rows that failed the test to check that every\n",
    "# paitent in the ICU was also recorded as being in hospital are: 6\n",
    "df.drop(df[(df['icu_yn'] == 'Yes') & (df['hosp_yn'] == 'No')].index, inplace=True)\n",
    "df.shape"
   ]
  },
  {
   "attachments": {},
   "cell_type": "markdown",
   "metadata": {},
   "source": [
    "#### Changing Data Types:\n",
    "All columns remaining are categorical"
   ]
  },
  {
   "cell_type": "code",
   "execution_count": 79,
   "metadata": {},
   "outputs": [
    {
     "name": "stdout",
     "output_type": "stream",
     "text": [
      "<class 'pandas.core.frame.DataFrame'>\n",
      "Int64Index: 39993 entries, 0 to 39999\n",
      "Data columns (total 12 columns):\n",
      " #   Column                    Non-Null Count  Dtype \n",
      "---  ------                    --------------  ----- \n",
      " 0   case_month                39993 non-null  object\n",
      " 1   res_state                 39993 non-null  object\n",
      " 2   res_county                39993 non-null  object\n",
      " 3   age_group                 39993 non-null  object\n",
      " 4   sex                       39993 non-null  object\n",
      " 5   race                      39993 non-null  object\n",
      " 6   ethnicity                 39993 non-null  object\n",
      " 7   current_status            39993 non-null  object\n",
      " 8   hosp_yn                   39993 non-null  object\n",
      " 9   icu_yn                    39993 non-null  object\n",
      " 10  death_yn                  39993 non-null  object\n",
      " 11  underlying_conditions_yn  39993 non-null  object\n",
      "dtypes: object(12)\n",
      "memory usage: 4.0+ MB\n"
     ]
    }
   ],
   "source": [
    "df.info()"
   ]
  },
  {
   "cell_type": "code",
   "execution_count": 80,
   "metadata": {},
   "outputs": [
    {
     "name": "stdout",
     "output_type": "stream",
     "text": [
      "<class 'pandas.core.frame.DataFrame'>\n",
      "Int64Index: 39993 entries, 0 to 39999\n",
      "Data columns (total 12 columns):\n",
      " #   Column                    Non-Null Count  Dtype   \n",
      "---  ------                    --------------  -----   \n",
      " 0   case_month                39993 non-null  category\n",
      " 1   res_state                 39993 non-null  category\n",
      " 2   res_county                39993 non-null  category\n",
      " 3   age_group                 39993 non-null  category\n",
      " 4   sex                       39993 non-null  category\n",
      " 5   race                      39993 non-null  category\n",
      " 6   ethnicity                 39993 non-null  category\n",
      " 7   current_status            39993 non-null  category\n",
      " 8   hosp_yn                   39993 non-null  category\n",
      " 9   icu_yn                    39993 non-null  category\n",
      " 10  death_yn                  39993 non-null  category\n",
      " 11  underlying_conditions_yn  39993 non-null  category\n",
      "dtypes: category(12)\n",
      "memory usage: 864.0 KB\n"
     ]
    }
   ],
   "source": [
    "##convert all remaining categorical columns to category type\n",
    "df = df.astype('category')\n",
    "df.info()"
   ]
  },
  {
   "attachments": {},
   "cell_type": "markdown",
   "metadata": {},
   "source": [
    "#### Add in 3 target features from Homework 1 that have a high correlation with death risk"
   ]
  },
  {
   "attachments": {},
   "cell_type": "markdown",
   "metadata": {},
   "source": [
    "#### 1. high_risk_category: hosp_yn=Yes and age_group=65+ years\n",
    "\n",
    "- high_risk_category= hosp_yn= Yes and age_group is 65+ years\n",
    "- Was this person hospitilized and were they older than 65?\n",
    "    - Yes if true\n",
    "    - To do this create binary(yes/no) encoding for in 65+ age group or not"
   ]
  },
  {
   "cell_type": "code",
   "execution_count": 81,
   "metadata": {},
   "outputs": [
    {
     "data": {
      "text/plain": [
       "0        Yes\n",
       "1         No\n",
       "2         No\n",
       "3        Yes\n",
       "4         No\n",
       "        ... \n",
       "39995     No\n",
       "39996     No\n",
       "39997     No\n",
       "39998     No\n",
       "39999     No\n",
       "Name: high_risk_category, Length: 39993, dtype: object"
      ]
     },
     "execution_count": 81,
     "metadata": {},
     "output_type": "execute_result"
    }
   ],
   "source": [
    "df['high_risk_category'] = np.where((df[\"age_group\"] == \"65+ years\") & (df[\"hosp_yn\"] == \"Yes\"), \"Yes\", \"No\")\n",
    "df['high_risk_category']"
   ]
  },
  {
   "attachments": {},
   "cell_type": "markdown",
   "metadata": {},
   "source": [
    "### 2. before_feb_2021\n",
    "- before_feb_2021= case_month<2021_02\n",
    "- If somone had covid before February of 2021 they were more likely to die from it\n",
    "    - Get case fatality ratio before and after this month for all age groups "
   ]
  },
  {
   "cell_type": "code",
   "execution_count": 82,
   "metadata": {},
   "outputs": [],
   "source": [
    "#to do this convert to continuous feature of type int\n",
    "# remove the -\n",
    "df[\"case_month\"]=df[\"case_month\"].str.replace('-', '')\n",
    "#convert to int\n",
    "df[\"case_month\"]=df[\"case_month\"].astype(int)\n",
    "df['before_feb_2021'] = np.where((df[\"case_month\"]<202102), \"Yes\", \"No\")"
   ]
  },
  {
   "attachments": {},
   "cell_type": "markdown",
   "metadata": {},
   "source": [
    "### 3. high_risk_state:\n",
    "- If the person is from NY, CA, IL or FL then this will return yes \n",
    "- This feature is useful as these 4 states contain 40.7% of the total deaths but only 23.7% of the cases"
   ]
  },
  {
   "cell_type": "code",
   "execution_count": 83,
   "metadata": {},
   "outputs": [
    {
     "data": {
      "text/plain": [
       "0         No\n",
       "1        Yes\n",
       "2        Yes\n",
       "3         No\n",
       "4        Yes\n",
       "        ... \n",
       "39995    Yes\n",
       "39996     No\n",
       "39997    Yes\n",
       "39998     No\n",
       "39999     No\n",
       "Name: high_risk_state, Length: 39993, dtype: object"
      ]
     },
     "execution_count": 83,
     "metadata": {},
     "output_type": "execute_result"
    }
   ],
   "source": [
    "df['high_risk_state'] = np.where((df[\"res_state\"] == \"CA\") | (df[\"res_state\"] == \"NY\") | (df[\"res_state\"] == \"IL\") | (df[\"res_state\"] == \"FL\"), \"Yes\", \"No\")\n",
    "df['high_risk_state']"
   ]
  },
  {
   "attachments": {},
   "cell_type": "markdown",
   "metadata": {},
   "source": [
    "### Add in an additional feature to group the states in order to graph the data more easily:\n",
    "### 4. Region:\n",
    "- Dividing the states into distinct regions"
   ]
  },
  {
   "cell_type": "code",
   "execution_count": 84,
   "metadata": {},
   "outputs": [],
   "source": [
    "def state_to_region(state):\n",
    "    east = ['ME', 'NH', 'VT', 'MA', 'RI', 'CT', 'NY', 'NJ', 'PA', 'DE', 'MD', 'DC']\n",
    "    south = ['WV', 'VA', 'NC', 'SC', 'GA', 'FL', 'AL', 'TN', 'MS', 'AR', 'LA', 'TX', 'OK']\n",
    "    midwest = ['OH', 'IN', 'IL', 'MI', 'WI', 'MN', 'IA', 'MO', 'ND', 'SD', 'NE', 'KS']\n",
    "    west = ['WA', 'OR', 'CA', 'NV', 'ID', 'MT', 'WY', 'CO', 'NM', 'AZ', 'UT']\n",
    "    other = ['AK', 'HI']\n",
    "    \n",
    "    if state in east:\n",
    "        return 'East'\n",
    "    elif state in south:\n",
    "        return 'South'\n",
    "    elif state in midwest:\n",
    "        return 'Midwest'\n",
    "    elif state in west:\n",
    "        return 'West'\n",
    "    elif state in other:\n",
    "        return 'Other'\n",
    "    else:\n",
    "        return 'Missing'\n",
    "    \n",
    "# Apply the mapping function to create a new column 'region'\n",
    "df['region'] = df['res_state'].apply(state_to_region)\n"
   ]
  },
  {
   "attachments": {},
   "cell_type": "markdown",
   "metadata": {},
   "source": [
    "### Converting to Categorical types"
   ]
  },
  {
   "cell_type": "code",
   "execution_count": 85,
   "metadata": {},
   "outputs": [
    {
     "name": "stdout",
     "output_type": "stream",
     "text": [
      "<class 'pandas.core.frame.DataFrame'>\n",
      "Int64Index: 39993 entries, 0 to 39999\n",
      "Data columns (total 16 columns):\n",
      " #   Column                    Non-Null Count  Dtype   \n",
      "---  ------                    --------------  -----   \n",
      " 0   case_month                39993 non-null  int64   \n",
      " 1   res_state                 39993 non-null  category\n",
      " 2   res_county                39993 non-null  category\n",
      " 3   age_group                 39993 non-null  category\n",
      " 4   sex                       39993 non-null  category\n",
      " 5   race                      39993 non-null  category\n",
      " 6   ethnicity                 39993 non-null  category\n",
      " 7   current_status            39993 non-null  category\n",
      " 8   hosp_yn                   39993 non-null  category\n",
      " 9   icu_yn                    39993 non-null  category\n",
      " 10  death_yn                  39993 non-null  category\n",
      " 11  underlying_conditions_yn  39993 non-null  category\n",
      " 12  high_risk_category        39993 non-null  category\n",
      " 13  before_feb_2021           39993 non-null  category\n",
      " 14  high_risk_state           39993 non-null  category\n",
      " 15  region                    39993 non-null  category\n",
      "dtypes: category(15), int64(1)\n",
      "memory usage: 1.3 MB\n"
     ]
    }
   ],
   "source": [
    "columns=df[['high_risk_category','before_feb_2021','high_risk_state','region']].columns\n",
    "for column in columns:\n",
    "    df[column] = df[column].astype('category') \n",
    "df.info()"
   ]
  },
  {
   "cell_type": "code",
   "execution_count": 86,
   "metadata": {},
   "outputs": [
    {
     "data": {
      "text/html": [
       "<div>\n",
       "<style scoped>\n",
       "    .dataframe tbody tr th:only-of-type {\n",
       "        vertical-align: middle;\n",
       "    }\n",
       "\n",
       "    .dataframe tbody tr th {\n",
       "        vertical-align: top;\n",
       "    }\n",
       "\n",
       "    .dataframe thead th {\n",
       "        text-align: right;\n",
       "    }\n",
       "</style>\n",
       "<table border=\"1\" class=\"dataframe\">\n",
       "  <thead>\n",
       "    <tr style=\"text-align: right;\">\n",
       "      <th></th>\n",
       "      <th>case_month</th>\n",
       "      <th>res_state</th>\n",
       "      <th>res_county</th>\n",
       "      <th>age_group</th>\n",
       "      <th>sex</th>\n",
       "      <th>race</th>\n",
       "      <th>ethnicity</th>\n",
       "      <th>current_status</th>\n",
       "      <th>hosp_yn</th>\n",
       "      <th>icu_yn</th>\n",
       "      <th>death_yn</th>\n",
       "      <th>underlying_conditions_yn</th>\n",
       "      <th>high_risk_category</th>\n",
       "      <th>before_feb_2021</th>\n",
       "      <th>high_risk_state</th>\n",
       "      <th>region</th>\n",
       "    </tr>\n",
       "  </thead>\n",
       "  <tbody>\n",
       "    <tr>\n",
       "      <th>0</th>\n",
       "      <td>202111</td>\n",
       "      <td>NV</td>\n",
       "      <td>CLARK</td>\n",
       "      <td>65+ years</td>\n",
       "      <td>Male</td>\n",
       "      <td>White</td>\n",
       "      <td>Non-Hispanic/Latino</td>\n",
       "      <td>Laboratory-confirmed case</td>\n",
       "      <td>Yes</td>\n",
       "      <td>Missing</td>\n",
       "      <td>Yes</td>\n",
       "      <td>Missing</td>\n",
       "      <td>Yes</td>\n",
       "      <td>No</td>\n",
       "      <td>No</td>\n",
       "      <td>West</td>\n",
       "    </tr>\n",
       "    <tr>\n",
       "      <th>1</th>\n",
       "      <td>202201</td>\n",
       "      <td>FL</td>\n",
       "      <td>HERNANDO</td>\n",
       "      <td>65+ years</td>\n",
       "      <td>Male</td>\n",
       "      <td>White</td>\n",
       "      <td>Non-Hispanic/Latino</td>\n",
       "      <td>Laboratory-confirmed case</td>\n",
       "      <td>No</td>\n",
       "      <td>Missing</td>\n",
       "      <td>Yes</td>\n",
       "      <td>Missing</td>\n",
       "      <td>No</td>\n",
       "      <td>No</td>\n",
       "      <td>Yes</td>\n",
       "      <td>South</td>\n",
       "    </tr>\n",
       "    <tr>\n",
       "      <th>2</th>\n",
       "      <td>202012</td>\n",
       "      <td>CA</td>\n",
       "      <td>LOS ANGELES</td>\n",
       "      <td>50 to 64 years</td>\n",
       "      <td>Male</td>\n",
       "      <td>White</td>\n",
       "      <td>Hispanic/Latino</td>\n",
       "      <td>Laboratory-confirmed case</td>\n",
       "      <td>No</td>\n",
       "      <td>Missing</td>\n",
       "      <td>Yes</td>\n",
       "      <td>Missing</td>\n",
       "      <td>No</td>\n",
       "      <td>Yes</td>\n",
       "      <td>Yes</td>\n",
       "      <td>West</td>\n",
       "    </tr>\n",
       "    <tr>\n",
       "      <th>3</th>\n",
       "      <td>202012</td>\n",
       "      <td>TN</td>\n",
       "      <td>Missing</td>\n",
       "      <td>65+ years</td>\n",
       "      <td>Male</td>\n",
       "      <td>White</td>\n",
       "      <td>Non-Hispanic/Latino</td>\n",
       "      <td>Laboratory-confirmed case</td>\n",
       "      <td>Yes</td>\n",
       "      <td>Yes</td>\n",
       "      <td>Yes</td>\n",
       "      <td>Yes</td>\n",
       "      <td>Yes</td>\n",
       "      <td>Yes</td>\n",
       "      <td>No</td>\n",
       "      <td>South</td>\n",
       "    </tr>\n",
       "    <tr>\n",
       "      <th>4</th>\n",
       "      <td>202003</td>\n",
       "      <td>NY</td>\n",
       "      <td>KINGS</td>\n",
       "      <td>50 to 64 years</td>\n",
       "      <td>Male</td>\n",
       "      <td>Missing</td>\n",
       "      <td>Missing</td>\n",
       "      <td>Laboratory-confirmed case</td>\n",
       "      <td>Yes</td>\n",
       "      <td>Missing</td>\n",
       "      <td>Yes</td>\n",
       "      <td>Yes</td>\n",
       "      <td>No</td>\n",
       "      <td>Yes</td>\n",
       "      <td>Yes</td>\n",
       "      <td>East</td>\n",
       "    </tr>\n",
       "    <tr>\n",
       "      <th>5</th>\n",
       "      <td>202112</td>\n",
       "      <td>IN</td>\n",
       "      <td>ALLEN</td>\n",
       "      <td>65+ years</td>\n",
       "      <td>Male</td>\n",
       "      <td>White</td>\n",
       "      <td>Non-Hispanic/Latino</td>\n",
       "      <td>Probable Case</td>\n",
       "      <td>No</td>\n",
       "      <td>Missing</td>\n",
       "      <td>Yes</td>\n",
       "      <td>Missing</td>\n",
       "      <td>No</td>\n",
       "      <td>No</td>\n",
       "      <td>No</td>\n",
       "      <td>Midwest</td>\n",
       "    </tr>\n",
       "    <tr>\n",
       "      <th>6</th>\n",
       "      <td>202012</td>\n",
       "      <td>PA</td>\n",
       "      <td>SCHUYLKILL</td>\n",
       "      <td>65+ years</td>\n",
       "      <td>Male</td>\n",
       "      <td>White</td>\n",
       "      <td>Non-Hispanic/Latino</td>\n",
       "      <td>Laboratory-confirmed case</td>\n",
       "      <td>Missing</td>\n",
       "      <td>Missing</td>\n",
       "      <td>Yes</td>\n",
       "      <td>Missing</td>\n",
       "      <td>No</td>\n",
       "      <td>Yes</td>\n",
       "      <td>No</td>\n",
       "      <td>East</td>\n",
       "    </tr>\n",
       "    <tr>\n",
       "      <th>7</th>\n",
       "      <td>202012</td>\n",
       "      <td>IL</td>\n",
       "      <td>COOK</td>\n",
       "      <td>65+ years</td>\n",
       "      <td>Female</td>\n",
       "      <td>White</td>\n",
       "      <td>Hispanic/Latino</td>\n",
       "      <td>Laboratory-confirmed case</td>\n",
       "      <td>No</td>\n",
       "      <td>Missing</td>\n",
       "      <td>Yes</td>\n",
       "      <td>Missing</td>\n",
       "      <td>No</td>\n",
       "      <td>Yes</td>\n",
       "      <td>Yes</td>\n",
       "      <td>Midwest</td>\n",
       "    </tr>\n",
       "    <tr>\n",
       "      <th>8</th>\n",
       "      <td>202012</td>\n",
       "      <td>CA</td>\n",
       "      <td>SANTA CLARA</td>\n",
       "      <td>65+ years</td>\n",
       "      <td>Female</td>\n",
       "      <td>Missing</td>\n",
       "      <td>Missing</td>\n",
       "      <td>Laboratory-confirmed case</td>\n",
       "      <td>No</td>\n",
       "      <td>Missing</td>\n",
       "      <td>Yes</td>\n",
       "      <td>Missing</td>\n",
       "      <td>No</td>\n",
       "      <td>Yes</td>\n",
       "      <td>Yes</td>\n",
       "      <td>West</td>\n",
       "    </tr>\n",
       "    <tr>\n",
       "      <th>9</th>\n",
       "      <td>202201</td>\n",
       "      <td>MA</td>\n",
       "      <td>SUFFOLK</td>\n",
       "      <td>65+ years</td>\n",
       "      <td>Male</td>\n",
       "      <td>White</td>\n",
       "      <td>Non-Hispanic/Latino</td>\n",
       "      <td>Laboratory-confirmed case</td>\n",
       "      <td>Yes</td>\n",
       "      <td>Missing</td>\n",
       "      <td>Yes</td>\n",
       "      <td>Missing</td>\n",
       "      <td>Yes</td>\n",
       "      <td>No</td>\n",
       "      <td>No</td>\n",
       "      <td>East</td>\n",
       "    </tr>\n",
       "  </tbody>\n",
       "</table>\n",
       "</div>"
      ],
      "text/plain": [
       "   case_month res_state   res_county       age_group     sex     race  \\\n",
       "0      202111        NV        CLARK       65+ years    Male    White   \n",
       "1      202201        FL     HERNANDO       65+ years    Male    White   \n",
       "2      202012        CA  LOS ANGELES  50 to 64 years    Male    White   \n",
       "3      202012        TN      Missing       65+ years    Male    White   \n",
       "4      202003        NY        KINGS  50 to 64 years    Male  Missing   \n",
       "5      202112        IN        ALLEN       65+ years    Male    White   \n",
       "6      202012        PA   SCHUYLKILL       65+ years    Male    White   \n",
       "7      202012        IL         COOK       65+ years  Female    White   \n",
       "8      202012        CA  SANTA CLARA       65+ years  Female  Missing   \n",
       "9      202201        MA      SUFFOLK       65+ years    Male    White   \n",
       "\n",
       "             ethnicity             current_status  hosp_yn   icu_yn death_yn  \\\n",
       "0  Non-Hispanic/Latino  Laboratory-confirmed case      Yes  Missing      Yes   \n",
       "1  Non-Hispanic/Latino  Laboratory-confirmed case       No  Missing      Yes   \n",
       "2      Hispanic/Latino  Laboratory-confirmed case       No  Missing      Yes   \n",
       "3  Non-Hispanic/Latino  Laboratory-confirmed case      Yes      Yes      Yes   \n",
       "4              Missing  Laboratory-confirmed case      Yes  Missing      Yes   \n",
       "5  Non-Hispanic/Latino              Probable Case       No  Missing      Yes   \n",
       "6  Non-Hispanic/Latino  Laboratory-confirmed case  Missing  Missing      Yes   \n",
       "7      Hispanic/Latino  Laboratory-confirmed case       No  Missing      Yes   \n",
       "8              Missing  Laboratory-confirmed case       No  Missing      Yes   \n",
       "9  Non-Hispanic/Latino  Laboratory-confirmed case      Yes  Missing      Yes   \n",
       "\n",
       "  underlying_conditions_yn high_risk_category before_feb_2021 high_risk_state  \\\n",
       "0                  Missing                Yes              No              No   \n",
       "1                  Missing                 No              No             Yes   \n",
       "2                  Missing                 No             Yes             Yes   \n",
       "3                      Yes                Yes             Yes              No   \n",
       "4                      Yes                 No             Yes             Yes   \n",
       "5                  Missing                 No              No              No   \n",
       "6                  Missing                 No             Yes              No   \n",
       "7                  Missing                 No             Yes             Yes   \n",
       "8                  Missing                 No             Yes             Yes   \n",
       "9                  Missing                Yes              No              No   \n",
       "\n",
       "    region  \n",
       "0     West  \n",
       "1    South  \n",
       "2     West  \n",
       "3    South  \n",
       "4     East  \n",
       "5  Midwest  \n",
       "6     East  \n",
       "7  Midwest  \n",
       "8     West  \n",
       "9     East  "
      ]
     },
     "execution_count": 86,
     "metadata": {},
     "output_type": "execute_result"
    }
   ],
   "source": [
    "df.head(10)"
   ]
  },
  {
   "cell_type": "code",
   "execution_count": 87,
   "metadata": {},
   "outputs": [],
   "source": [
    "#export to csv\n",
    "df.to_csv('cleaned_merged_data.csv', index=False)"
   ]
  },
  {
   "attachments": {},
   "cell_type": "markdown",
   "metadata": {},
   "source": [
    "- The exported CSV file is contains our merged data, is cleaned according to the main points of Homework 1 and contains 4 new target features."
   ]
  },
  {
   "attachments": {},
   "cell_type": "markdown",
   "metadata": {},
   "source": [
    "### Exercise 1: Data Understanding and Preparation"
   ]
  },
  {
   "cell_type": "code",
   "execution_count": 91,
   "metadata": {},
   "outputs": [
    {
     "name": "stdout",
     "output_type": "stream",
     "text": [
      "<class 'pandas.core.frame.DataFrame'>\n",
      "RangeIndex: 39993 entries, 0 to 39992\n",
      "Data columns (total 16 columns):\n",
      " #   Column                    Non-Null Count  Dtype   \n",
      "---  ------                    --------------  -----   \n",
      " 0   case_month                39993 non-null  category\n",
      " 1   res_state                 39993 non-null  category\n",
      " 2   res_county                39993 non-null  category\n",
      " 3   age_group                 39993 non-null  category\n",
      " 4   sex                       39993 non-null  category\n",
      " 5   race                      39993 non-null  category\n",
      " 6   ethnicity                 39993 non-null  category\n",
      " 7   current_status            39993 non-null  category\n",
      " 8   hosp_yn                   39993 non-null  category\n",
      " 9   icu_yn                    39993 non-null  category\n",
      " 10  death_yn                  39993 non-null  category\n",
      " 11  underlying_conditions_yn  39993 non-null  category\n",
      " 12  high_risk_category        39993 non-null  category\n",
      " 13  before_feb_2021           39993 non-null  category\n",
      " 14  high_risk_state           39993 non-null  category\n",
      " 15  region                    39993 non-null  category\n",
      "dtypes: category(16)\n",
      "memory usage: 708.5 KB\n"
     ]
    }
   ],
   "source": [
    "df = pd.read_csv(\"cleaned_merged_data.csv\")\n",
    "#convert all to categorical features\n",
    "df = df.astype('category')\n",
    "df.info()"
   ]
  },
  {
   "attachments": {},
   "cell_type": "markdown",
   "metadata": {},
   "source": [
    "### 1.1 Split the dataset into 70% training and 30% testing\n",
    "- The target feature, 'y' will be set to death_yn\n",
    "- The other features will be set to 'X'"
   ]
  },
  {
   "cell_type": "code",
   "execution_count": 93,
   "metadata": {},
   "outputs": [],
   "source": [
    "y = pd.DataFrame(df[\"death_yn\"])\n",
    "X = df.drop([\"death_yn\"],axis=1)"
   ]
  },
  {
   "attachments": {},
   "cell_type": "markdown",
   "metadata": {},
   "source": [
    "- The train_test_split function randomly splits the dataset into the test_size.\n",
    "- Random_state allows the random shuffle to be repeated only in this notebook"
   ]
  },
  {
   "cell_type": "code",
   "execution_count": 94,
   "metadata": {},
   "outputs": [
    {
     "name": "stdout",
     "output_type": "stream",
     "text": [
      "original range is:  39993\n",
      "training range (70%):\t rows 0 to 27995\n",
      "test range (30%): \t rows 27995 to 39993\n"
     ]
    }
   ],
   "source": [
    "#split into 2: 70% training and 30% test\n",
    "X_train, X_test, y_train, y_test = train_test_split(X, y, test_size=0.3,random_state=1)\n",
    "\n",
    "print(\"original range is: \",df.shape[0])\n",
    "print(\"training range (70%):\\t rows 0 to\", round(X_train.shape[0]))\n",
    "print(\"test range (30%): \\t rows\", round(X_train.shape[0]), \"to\", round(X_train.shape[0]) + X_test.shape[0])"
   ]
  },
  {
   "attachments": {},
   "cell_type": "markdown",
   "metadata": {},
   "source": [
    "### 1.2 Plot a pairwise interaction between each categorical feature and the target feature\n",
    "- Because we have no continuous features in our dataset we go straight to analysing the categorical features.\n",
    "- We will discuss what we observe from the plots, eg which features seem to be better at predicting the target feature\n",
    "- We will then choose a subset of features that we find promising and justify this choice.\n",
    "#### Create stacked bar plots for all categorical features"
   ]
  },
  {
   "cell_type": "code",
   "execution_count": null,
   "metadata": {},
   "outputs": [],
   "source": []
  },
  {
   "attachments": {},
   "cell_type": "markdown",
   "metadata": {},
   "source": [
    "#### Knowledge gained from these plots:"
   ]
  },
  {
   "cell_type": "code",
   "execution_count": null,
   "metadata": {},
   "outputs": [],
   "source": []
  }
 ],
 "metadata": {
  "kernelspec": {
   "display_name": "Python 3",
   "language": "python",
   "name": "python3"
  },
  "language_info": {
   "codemirror_mode": {
    "name": "ipython",
    "version": 3
   },
   "file_extension": ".py",
   "mimetype": "text/x-python",
   "name": "python",
   "nbconvert_exporter": "python",
   "pygments_lexer": "ipython3",
   "version": "3.8.16"
  }
 },
 "nbformat": 4,
 "nbformat_minor": 1
}
